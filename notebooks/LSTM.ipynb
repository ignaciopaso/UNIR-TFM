{
 "cells": [
  {
   "cell_type": "code",
   "execution_count": null,
   "id": "910d127b-4c95-4881-9966-c83a84702c9e",
   "metadata": {},
   "outputs": [],
   "source": [
    "pip install tensorflow pandas numpy scikit-learn matplotlib\n"
   ]
  },
  {
   "cell_type": "code",
   "execution_count": 1,
   "id": "e66cb88c-c334-476f-8c22-17438929475b",
   "metadata": {},
   "outputs": [
    {
     "name": "stdout",
     "output_type": "stream",
     "text": [
      "WARNING:tensorflow:From C:\\Users\\Igna\\anaconda3\\Lib\\site-packages\\keras\\src\\losses.py:2976: The name tf.losses.sparse_softmax_cross_entropy is deprecated. Please use tf.compat.v1.losses.sparse_softmax_cross_entropy instead.\n",
      "\n"
     ]
    }
   ],
   "source": [
    "import numpy as np\n",
    "import pandas as pd\n",
    "import matplotlib.pyplot as plt\n",
    "from sklearn.preprocessing import MinMaxScaler\n",
    "from tensorflow.keras.models import Sequential\n",
    "from tensorflow.keras.layers import LSTM, Dense\n"
   ]
  },
  {
   "cell_type": "code",
   "execution_count": 10,
   "id": "6b1315eb-6dd2-4280-a5df-32720ca4b034",
   "metadata": {
    "tags": []
   },
   "outputs": [
    {
     "name": "stdout",
     "output_type": "stream",
     "text": [
      "   dias  antelacion     checkin    checkout     reserva  pension  \\\n",
      "0     9         110  2024-12-27  2025-01-05  2024-09-08        1   \n",
      "1     9         110  2024-12-27  2025-01-05  2024-09-08        1   \n",
      "2     9         110  2024-12-27  2025-01-05  2024-09-08        1   \n",
      "3     9         110  2024-12-27  2025-01-05  2024-09-08        1   \n",
      "4     9         110  2024-12-27  2025-01-05  2024-09-08        1   \n",
      "\n",
      "   categoria_habitacion  num_adults  num_childs  precio_habitacion  ...  \\\n",
      "0                    90           2           0               1620  ...   \n",
      "1                    90           2           0               1620  ...   \n",
      "2                    90           2           0               1620  ...   \n",
      "3                    90           2           0               1620  ...   \n",
      "4                    90           2           0               1620  ...   \n",
      "\n",
      "   state  province  postal_code  evento         dia id_reserva  diaSemana max  \\\n",
      "0     GB       NaN     SW19 3EJ     NaN  2024-12-27       6097          5 NaN   \n",
      "1     GB       NaN     SW19 3EJ     NaN  2024-12-28       6097          6 NaN   \n",
      "2     GB       NaN     SW19 3EJ     NaN  2024-12-29       6097          7 NaN   \n",
      "3     GB       NaN     SW19 3EJ     NaN  2024-12-30       6097          1 NaN   \n",
      "4     GB       NaN     SW19 3EJ     NaN  2024-12-31       6097          2 NaN   \n",
      "\n",
      "  min precipitaciones  \n",
      "0 NaN        0.703887  \n",
      "1 NaN        0.703887  \n",
      "2 NaN        0.703887  \n",
      "3 NaN        0.703887  \n",
      "4 NaN        0.703887  \n",
      "\n",
      "[5 rows x 25 columns]\n"
     ]
    },
    {
     "name": "stderr",
     "output_type": "stream",
     "text": [
      "C:\\Users\\Igna\\AppData\\Local\\Temp\\ipykernel_26092\\1492385992.py:3: DtypeWarning: Columns (18) have mixed types. Specify dtype option on import or set low_memory=False.\n",
      "  df = pd.read_csv(file_path, encoding='ISO-8859-1', delimiter=';')\n"
     ]
    }
   ],
   "source": [
    "\n",
    "# Cargar un dataset CSV\n",
    "file_path ='Reservas estancias días hotel procesado 3.csv';\n",
    "df = pd.read_csv(file_path, encoding='ISO-8859-1', delimiter=';')\n",
    "\n",
    "# Mostrar las primeras filas del dataset para verificar la carga\n",
    "print(df.head())"
   ]
  },
  {
   "cell_type": "code",
   "execution_count": 11,
   "id": "cc7c287b-224f-4287-aa3e-cd4c524284e3",
   "metadata": {
    "tags": []
   },
   "outputs": [
    {
     "name": "stdout",
     "output_type": "stream",
     "text": [
      "   dias  antelacion     checkin    checkout     reserva  pension  \\\n",
      "0     9         110  2024-12-27  2025-01-05  2024-09-08        1   \n",
      "1     9         110  2024-12-27  2025-01-05  2024-09-08        1   \n",
      "2     9         110  2024-12-27  2025-01-05  2024-09-08        1   \n",
      "3     9         110  2024-12-27  2025-01-05  2024-09-08        1   \n",
      "4     9         110  2024-12-27  2025-01-05  2024-09-08        1   \n",
      "\n",
      "   categoria_habitacion  num_adults  num_childs  precio_habitacion  ...  \\\n",
      "0                    90           2           0               1620  ...   \n",
      "1                    90           2           0               1620  ...   \n",
      "2                    90           2           0               1620  ...   \n",
      "3                    90           2           0               1620  ...   \n",
      "4                    90           2           0               1620  ...   \n",
      "\n",
      "   state  province  postal_code  evento         dia id_reserva  diaSemana  \\\n",
      "0     GB       NaN     SW19 3EJ     NaN  2024-12-27       6097          5   \n",
      "1     GB       NaN     SW19 3EJ     NaN  2024-12-28       6097          6   \n",
      "2     GB       NaN     SW19 3EJ     NaN  2024-12-29       6097          7   \n",
      "3     GB       NaN     SW19 3EJ     NaN  2024-12-30       6097          1   \n",
      "4     GB       NaN     SW19 3EJ     NaN  2024-12-31       6097          2   \n",
      "\n",
      "         max        min precipitaciones  \n",
      "0  22.686178  16.107633        0.703887  \n",
      "1  22.686178  16.107633        0.703887  \n",
      "2  22.686178  16.107633        0.703887  \n",
      "3  22.686178  16.107633        0.703887  \n",
      "4  22.686178  16.107633        0.703887  \n",
      "\n",
      "[5 rows x 25 columns]\n"
     ]
    }
   ],
   "source": [
    "#columnas_a_modificar = ['max','min','precipitaciones']\n",
    "columnas_a_modificar = ['max','min']\n",
    "\n",
    "for columna in columnas_a_modificar:\n",
    "    # Calcular la media de la columna ignorando los valores nulos\n",
    "    media_columna = df[columna].mean()\n",
    "    \n",
    "    # Reemplazar los valores nulos por la media\n",
    "    df[columna].fillna(media_columna, inplace=True)\n",
    "\n",
    "# Verificar el resultado\n",
    "print(df.head())"
   ]
  },
  {
   "cell_type": "code",
   "execution_count": 12,
   "id": "f068b521-00e5-4752-8411-c175b6980912",
   "metadata": {
    "tags": []
   },
   "outputs": [],
   "source": [
    "# Guardar el DataFrame en un archivo CSV\n",
    "df.to_csv('Reservas estancias días hotel procesado 4.csv', index=False)\n"
   ]
  },
  {
   "cell_type": "code",
   "execution_count": 13,
   "id": "459252a3-6b1d-42b1-8495-e7a704196972",
   "metadata": {
    "tags": []
   },
   "outputs": [
    {
     "data": {
      "text/html": [
       "<div>\n",
       "<style scoped>\n",
       "    .dataframe tbody tr th:only-of-type {\n",
       "        vertical-align: middle;\n",
       "    }\n",
       "\n",
       "    .dataframe tbody tr th {\n",
       "        vertical-align: top;\n",
       "    }\n",
       "\n",
       "    .dataframe thead th {\n",
       "        text-align: right;\n",
       "    }\n",
       "</style>\n",
       "<table border=\"1\" class=\"dataframe\">\n",
       "  <thead>\n",
       "    <tr style=\"text-align: right;\">\n",
       "      <th></th>\n",
       "      <th>dias</th>\n",
       "      <th>antelacion</th>\n",
       "      <th>pension</th>\n",
       "      <th>categoria_habitacion</th>\n",
       "      <th>num_adults</th>\n",
       "      <th>num_childs</th>\n",
       "      <th>precio_habitacion</th>\n",
       "      <th>agency_commission</th>\n",
       "      <th>discount_amount</th>\n",
       "      <th>status</th>\n",
       "      <th>...</th>\n",
       "      <th>checkout_sin_dia_mes</th>\n",
       "      <th>checkout_cos_dia_mes</th>\n",
       "      <th>reserva_sin_mes</th>\n",
       "      <th>reserva_cos_mes</th>\n",
       "      <th>reserva_sin_dia_mes</th>\n",
       "      <th>reserva_cos_dia_mes</th>\n",
       "      <th>dia_sin_mes</th>\n",
       "      <th>dia_cos_mes</th>\n",
       "      <th>dia_sin_dia_mes</th>\n",
       "      <th>dia_cos_dia_mes</th>\n",
       "    </tr>\n",
       "  </thead>\n",
       "  <tbody>\n",
       "    <tr>\n",
       "      <th>0</th>\n",
       "      <td>9</td>\n",
       "      <td>110</td>\n",
       "      <td>1</td>\n",
       "      <td>90</td>\n",
       "      <td>2</td>\n",
       "      <td>0</td>\n",
       "      <td>1620</td>\n",
       "      <td>15</td>\n",
       "      <td>0</td>\n",
       "      <td>3</td>\n",
       "      <td>...</td>\n",
       "      <td>0.848644</td>\n",
       "      <td>0.528964</td>\n",
       "      <td>-1.0</td>\n",
       "      <td>-1.836970e-16</td>\n",
       "      <td>0.998717</td>\n",
       "      <td>-0.050649</td>\n",
       "      <td>-2.449294e-16</td>\n",
       "      <td>1.0</td>\n",
       "      <td>-7.247928e-01</td>\n",
       "      <td>0.688967</td>\n",
       "    </tr>\n",
       "    <tr>\n",
       "      <th>1</th>\n",
       "      <td>9</td>\n",
       "      <td>110</td>\n",
       "      <td>1</td>\n",
       "      <td>90</td>\n",
       "      <td>2</td>\n",
       "      <td>0</td>\n",
       "      <td>1620</td>\n",
       "      <td>15</td>\n",
       "      <td>0</td>\n",
       "      <td>3</td>\n",
       "      <td>...</td>\n",
       "      <td>0.848644</td>\n",
       "      <td>0.528964</td>\n",
       "      <td>-1.0</td>\n",
       "      <td>-1.836970e-16</td>\n",
       "      <td>0.998717</td>\n",
       "      <td>-0.050649</td>\n",
       "      <td>-2.449294e-16</td>\n",
       "      <td>1.0</td>\n",
       "      <td>-5.712682e-01</td>\n",
       "      <td>0.820763</td>\n",
       "    </tr>\n",
       "    <tr>\n",
       "      <th>2</th>\n",
       "      <td>9</td>\n",
       "      <td>110</td>\n",
       "      <td>1</td>\n",
       "      <td>90</td>\n",
       "      <td>2</td>\n",
       "      <td>0</td>\n",
       "      <td>1620</td>\n",
       "      <td>15</td>\n",
       "      <td>0</td>\n",
       "      <td>3</td>\n",
       "      <td>...</td>\n",
       "      <td>0.848644</td>\n",
       "      <td>0.528964</td>\n",
       "      <td>-1.0</td>\n",
       "      <td>-1.836970e-16</td>\n",
       "      <td>0.998717</td>\n",
       "      <td>-0.050649</td>\n",
       "      <td>-2.449294e-16</td>\n",
       "      <td>1.0</td>\n",
       "      <td>-3.943559e-01</td>\n",
       "      <td>0.918958</td>\n",
       "    </tr>\n",
       "    <tr>\n",
       "      <th>3</th>\n",
       "      <td>9</td>\n",
       "      <td>110</td>\n",
       "      <td>1</td>\n",
       "      <td>90</td>\n",
       "      <td>2</td>\n",
       "      <td>0</td>\n",
       "      <td>1620</td>\n",
       "      <td>15</td>\n",
       "      <td>0</td>\n",
       "      <td>3</td>\n",
       "      <td>...</td>\n",
       "      <td>0.848644</td>\n",
       "      <td>0.528964</td>\n",
       "      <td>-1.0</td>\n",
       "      <td>-1.836970e-16</td>\n",
       "      <td>0.998717</td>\n",
       "      <td>-0.050649</td>\n",
       "      <td>-2.449294e-16</td>\n",
       "      <td>1.0</td>\n",
       "      <td>-2.012985e-01</td>\n",
       "      <td>0.979530</td>\n",
       "    </tr>\n",
       "    <tr>\n",
       "      <th>4</th>\n",
       "      <td>9</td>\n",
       "      <td>110</td>\n",
       "      <td>1</td>\n",
       "      <td>90</td>\n",
       "      <td>2</td>\n",
       "      <td>0</td>\n",
       "      <td>1620</td>\n",
       "      <td>15</td>\n",
       "      <td>0</td>\n",
       "      <td>3</td>\n",
       "      <td>...</td>\n",
       "      <td>0.848644</td>\n",
       "      <td>0.528964</td>\n",
       "      <td>-1.0</td>\n",
       "      <td>-1.836970e-16</td>\n",
       "      <td>0.998717</td>\n",
       "      <td>-0.050649</td>\n",
       "      <td>-2.449294e-16</td>\n",
       "      <td>1.0</td>\n",
       "      <td>-2.449294e-16</td>\n",
       "      <td>1.000000</td>\n",
       "    </tr>\n",
       "  </tbody>\n",
       "</table>\n",
       "<p>5 rows × 39 columns</p>\n",
       "</div>"
      ],
      "text/plain": [
       "   dias  antelacion  pension  categoria_habitacion  num_adults  num_childs  \\\n",
       "0     9         110        1                    90           2           0   \n",
       "1     9         110        1                    90           2           0   \n",
       "2     9         110        1                    90           2           0   \n",
       "3     9         110        1                    90           2           0   \n",
       "4     9         110        1                    90           2           0   \n",
       "\n",
       "   precio_habitacion  agency_commission  discount_amount  status  ...  \\\n",
       "0               1620                 15                0       3  ...   \n",
       "1               1620                 15                0       3  ...   \n",
       "2               1620                 15                0       3  ...   \n",
       "3               1620                 15                0       3  ...   \n",
       "4               1620                 15                0       3  ...   \n",
       "\n",
       "   checkout_sin_dia_mes  checkout_cos_dia_mes reserva_sin_mes  \\\n",
       "0              0.848644              0.528964            -1.0   \n",
       "1              0.848644              0.528964            -1.0   \n",
       "2              0.848644              0.528964            -1.0   \n",
       "3              0.848644              0.528964            -1.0   \n",
       "4              0.848644              0.528964            -1.0   \n",
       "\n",
       "   reserva_cos_mes reserva_sin_dia_mes reserva_cos_dia_mes   dia_sin_mes  \\\n",
       "0    -1.836970e-16            0.998717           -0.050649 -2.449294e-16   \n",
       "1    -1.836970e-16            0.998717           -0.050649 -2.449294e-16   \n",
       "2    -1.836970e-16            0.998717           -0.050649 -2.449294e-16   \n",
       "3    -1.836970e-16            0.998717           -0.050649 -2.449294e-16   \n",
       "4    -1.836970e-16            0.998717           -0.050649 -2.449294e-16   \n",
       "\n",
       "   dia_cos_mes  dia_sin_dia_mes  dia_cos_dia_mes  \n",
       "0          1.0    -7.247928e-01         0.688967  \n",
       "1          1.0    -5.712682e-01         0.820763  \n",
       "2          1.0    -3.943559e-01         0.918958  \n",
       "3          1.0    -2.012985e-01         0.979530  \n",
       "4          1.0    -2.449294e-16         1.000000  \n",
       "\n",
       "[5 rows x 39 columns]"
      ]
     },
     "execution_count": 13,
     "metadata": {},
     "output_type": "execute_result"
    }
   ],
   "source": [
    "import numpy as np\n",
    "\n",
    "\n",
    "# Convertir la columna de fecha en tipo datetime\n",
    "df['checkin'] = pd.to_datetime(df['checkin'])\n",
    "# Extraer el mes y el día del mes\n",
    "df['mes'] = df['checkin'].dt.month\n",
    "df['dia_mes'] = df['checkin'].dt.day\n",
    "# Convertir el mes en variables cíclicas\n",
    "df['checkin_sin_mes'] = np.sin(2 * np.pi * df['mes'] / 12)\n",
    "df['checkin_cos_mes'] = np.cos(2 * np.pi * df['mes'] / 12)\n",
    "# Convertir el día del mes en variables cíclicas\n",
    "df['checkin_sin_dia_mes'] = np.sin(2 * np.pi * df['dia_mes'] / 31)\n",
    "df['checkin_cos_dia_mes'] = np.cos(2 * np.pi * df['dia_mes'] / 31)\n",
    "\n",
    "# Convertir la columna de fecha en tipo datetime\n",
    "df['checkout'] = pd.to_datetime(df['checkout'])\n",
    "# Extraer el mes y el día del mes\n",
    "df['mes'] = df['checkout'].dt.month\n",
    "df['dia_mes'] = df['checkout'].dt.day\n",
    "# Convertir el mes en variables cíclicas\n",
    "df['checkout_sin_mes'] = np.sin(2 * np.pi * df['mes'] / 12)\n",
    "df['checkout_cos_mes'] = np.cos(2 * np.pi * df['mes'] / 12)\n",
    "# Convertir el día del mes en variables cíclicas\n",
    "df['checkout_sin_dia_mes'] = np.sin(2 * np.pi * df['dia_mes'] / 31)\n",
    "df['checkout_cos_dia_mes'] = np.cos(2 * np.pi * df['dia_mes'] / 31)\n",
    "\n",
    "# Convertir la columna de fecha en tipo datetime\n",
    "df['reserva'] = pd.to_datetime(df['reserva'])\n",
    "# Extraer el mes y el día del mes\n",
    "df['mes'] = df['reserva'].dt.month\n",
    "df['dia_mes'] = df['reserva'].dt.day\n",
    "# Convertir el mes en variables cíclicas\n",
    "df['reserva_sin_mes'] = np.sin(2 * np.pi * df['mes'] / 12)\n",
    "df['reserva_cos_mes'] = np.cos(2 * np.pi * df['mes'] / 12)\n",
    "# Convertir el día del mes en variables cíclicas\n",
    "df['reserva_sin_dia_mes'] = np.sin(2 * np.pi * df['dia_mes'] / 31)\n",
    "df['reserva_cos_dia_mes'] = np.cos(2 * np.pi * df['dia_mes'] / 31)\n",
    "\n",
    "# Convertir la columna de fecha en tipo datetime\n",
    "df['dia'] = pd.to_datetime(df['dia'])\n",
    "# Extraer el mes y el día del mes\n",
    "df['mes'] = df['dia'].dt.month\n",
    "df['dia_mes'] = df['dia'].dt.day\n",
    "# Convertir el mes en variables cíclicas\n",
    "df['dia_sin_mes'] = np.sin(2 * np.pi * df['mes'] / 12)\n",
    "df['dia_cos_mes'] = np.cos(2 * np.pi * df['mes'] / 12)\n",
    "# Convertir el día del mes en variables cíclicas\n",
    "df['dia_sin_dia_mes'] = np.sin(2 * np.pi * df['dia_mes'] / 31)\n",
    "df['dia_cos_dia_mes'] = np.cos(2 * np.pi * df['dia_mes'] / 31)\n",
    "\n",
    "columns_to_drop = ['checkin', 'checkout', 'reserva', 'dia']\n",
    "df = df.drop(columns=columns_to_drop)\n",
    "\n",
    "# Visualizar el resultado\n",
    "df.head()"
   ]
  },
  {
   "cell_type": "code",
   "execution_count": 14,
   "id": "c5883f18-23c3-4b8a-8af7-eb3fd205890b",
   "metadata": {
    "tags": []
   },
   "outputs": [],
   "source": [
    "# Guardar el DataFrame en un archivo CSV\n",
    "df.to_csv('Reservas estancias días hotel procesado 5.csv', index=False)"
   ]
  },
  {
   "cell_type": "code",
   "execution_count": 1,
   "id": "10f4f22a-641d-4c49-addd-dfdc2bc2ffde",
   "metadata": {
    "tags": []
   },
   "outputs": [
    {
     "name": "stdout",
     "output_type": "stream",
     "text": [
      "WARNING:tensorflow:From C:\\Users\\Igna\\anaconda3\\Lib\\site-packages\\keras\\src\\losses.py:2976: The name tf.losses.sparse_softmax_cross_entropy is deprecated. Please use tf.compat.v1.losses.sparse_softmax_cross_entropy instead.\n",
      "\n"
     ]
    }
   ],
   "source": [
    "import numpy as np\n",
    "import pandas as pd\n",
    "import matplotlib.pyplot as plt\n",
    "from sklearn.preprocessing import MinMaxScaler\n",
    "from tensorflow.keras.models import Sequential\n",
    "from tensorflow.keras.layers import LSTM, Dense\n"
   ]
  },
  {
   "cell_type": "code",
   "execution_count": 2,
   "id": "3dd9b2d7-4e23-436f-85d4-8c411b863030",
   "metadata": {},
   "outputs": [
    {
     "name": "stderr",
     "output_type": "stream",
     "text": [
      "C:\\Users\\Igna\\AppData\\Local\\Temp\\ipykernel_11452\\2839099106.py:3: DtypeWarning: Columns (31) have mixed types. Specify dtype option on import or set low_memory=False.\n",
      "  df = pd.read_csv(file_path, encoding='ISO-8859-1', delimiter=';')\n"
     ]
    },
    {
     "name": "stdout",
     "output_type": "stream",
     "text": [
      "   dias  antelacion  pension  categoria_hab107acion  num_adults  num_childs  \\\n",
      "0     9         110        1                     90           2           0   \n",
      "1     9         110        1                     90           2           0   \n",
      "2     9         110        1                     90           2           0   \n",
      "3     9         110        1                     90           2           0   \n",
      "4     9         110        1                     90           2           0   \n",
      "\n",
      "   precio_habitacion  agency_commission  discount_amount  status  ...  \\\n",
      "0               1620                 15                0       3  ...   \n",
      "1               1620                 15                0       3  ...   \n",
      "2               1620                 15                0       3  ...   \n",
      "3               1620                 15                0       3  ...   \n",
      "4               1620                 15                0       3  ...   \n",
      "\n",
      "   checkout_cos_dia_mes  reserva_sin_mes  reserva_cos_mes  \\\n",
      "0              0.528964             -1.0            -1,84   \n",
      "1              0.528964             -1.0            -1,84   \n",
      "2              0.528964             -1.0            -1,84   \n",
      "3              0.528964             -1.0            -1,84   \n",
      "4              0.528964             -1.0            -1,84   \n",
      "\n",
      "   reserva_sin_dia_mes  reserva_cos_dia_mes  dia_sin_mes  dia_cos_mes  \\\n",
      "0   0.9987165071710528            -0.050649        -2,45          1.0   \n",
      "1   0.9987165071710528            -0.050649        -2,45          1.0   \n",
      "2   0.9987165071710528            -0.050649        -2,45          1.0   \n",
      "3   0.9987165071710528            -0.050649        -2,45          1.0   \n",
      "4   0.9987165071710528            -0.050649        -2,45          1.0   \n",
      "\n",
      "        dia_sin_dia_mes  dia_cos_dia_mes  ocupacion  \n",
      "0     -0.72479278722912         0.688967        0.0  \n",
      "1   -0.5712682150947924         0.820763        0.0  \n",
      "2   -0.3943558551133187         0.918958        0.0  \n",
      "3  -0.20129852008866114         0.979530        0.0  \n",
      "4                 -2,45         1.000000        0.0  \n",
      "\n",
      "[5 rows x 39 columns]\n"
     ]
    }
   ],
   "source": [
    "# Cargar un dataset CSV\n",
    "file_path ='Reservas estancias días hotel procesado 5.csv';\n",
    "df = pd.read_csv(file_path, encoding='ISO-8859-1', delimiter=';')\n",
    "\n",
    "# Mostrar las primeras filas del dataset para verificar la carga\n",
    "print(df.head())"
   ]
  },
  {
   "cell_type": "code",
   "execution_count": 3,
   "id": "bf744117-187a-4fb5-874a-74f21e334a59",
   "metadata": {},
   "outputs": [
    {
     "name": "stdout",
     "output_type": "stream",
     "text": [
      "   dias  antelacion  pension  categoria_hab107acion  num_adults  num_childs  \\\n",
      "0     9         110        1                     90           2           0   \n",
      "1     9         110        1                     90           2           0   \n",
      "2     9         110        1                     90           2           0   \n",
      "3     9         110        1                     90           2           0   \n",
      "4     9         110        1                     90           2           0   \n",
      "\n",
      "   precio_habitacion  agency_commission  discount_amount  status  ...  \\\n",
      "0               1620                 15                0       3  ...   \n",
      "1               1620                 15                0       3  ...   \n",
      "2               1620                 15                0       3  ...   \n",
      "3               1620                 15                0       3  ...   \n",
      "4               1620                 15                0       3  ...   \n",
      "\n",
      "   dia_cos_mes       dia_sin_dia_mes  dia_cos_dia_mes  ocupacion  \\\n",
      "0          1.0     -0.72479278722912         0.688967        0.0   \n",
      "1          1.0   -0.5712682150947924         0.820763        0.0   \n",
      "2          1.0   -0.3943558551133187         0.918958        0.0   \n",
      "3          1.0  -0.20129852008866114         0.979530        0.0   \n",
      "4          1.0                 -2,45         1.000000        0.0   \n",
      "\n",
      "   ocupacion_pasada_1_dias  ocupacion_pasada_2_dias  ocupacion_pasada_3_dias  \\\n",
      "0                      NaN                      NaN                      NaN   \n",
      "1                      0.0                      NaN                      NaN   \n",
      "2                      0.0                      0.0                      NaN   \n",
      "3                      0.0                      0.0                      0.0   \n",
      "4                      0.0                      0.0                      0.0   \n",
      "\n",
      "   ocupacion_pasada_4_dias  ocupacion_pasada_5_dias  ocupacion_pasada_10_dias  \n",
      "0                      NaN                      NaN                       NaN  \n",
      "1                      NaN                      NaN                       NaN  \n",
      "2                      NaN                      NaN                       NaN  \n",
      "3                      NaN                      NaN                       NaN  \n",
      "4                      0.0                      NaN                       NaN  \n",
      "\n",
      "[5 rows x 45 columns]\n"
     ]
    }
   ],
   "source": [
    "# Crear las columnas de ocupación pasada para 1, 2, 3, 4, 5, 10 días\n",
    "dias_a_retrasar = [1, 2, 3, 4, 5, 10]\n",
    "\n",
    "for dia in dias_a_retrasar:\n",
    "    # Usamos shift() para crear la columna de ocupación pasada\n",
    "    df[f'ocupacion_pasada_{dia}_dias'] = df['ocupacion'].shift(dia)\n",
    "\n",
    "# Mostrar las primeras filas del DataFrame con las nuevas columnas\n",
    "print(df.head())"
   ]
  },
  {
   "cell_type": "code",
   "execution_count": 8,
   "id": "5b9bf0c2-0aab-4a4d-8a7f-bea0382c107d",
   "metadata": {
    "tags": []
   },
   "outputs": [],
   "source": [
    "import pandas as pd\n",
    "df  = pd.read_csv('Reservas estancias días hotel procesado 9 ciudad y id y cluster.csv', encoding='ISO-8859-1', delimiter=';')"
   ]
  },
  {
   "cell_type": "code",
   "execution_count": 9,
   "id": "8fdccb3e-9f95-492a-80bd-ea2fab672fcd",
   "metadata": {
    "tags": []
   },
   "outputs": [],
   "source": [
    "cluster_0 = df[df['Cluster'] == 0]\n",
    "cluster_1 = df[df['Cluster'] == 1]\n",
    "cluster_2 = df[df['Cluster'] == 2]"
   ]
  },
  {
   "cell_type": "code",
   "execution_count": 10,
   "id": "e17e369a-16df-4cc5-93c6-f77655f95731",
   "metadata": {
    "tags": []
   },
   "outputs": [
    {
     "name": "stdout",
     "output_type": "stream",
     "text": [
      "WARNING:tensorflow:From C:\\Users\\Igna\\anaconda3\\Lib\\site-packages\\keras\\src\\losses.py:2976: The name tf.losses.sparse_softmax_cross_entropy is deprecated. Please use tf.compat.v1.losses.sparse_softmax_cross_entropy instead.\n",
      "\n"
     ]
    }
   ],
   "source": [
    "import numpy as np\n",
    "from sklearn.preprocessing import MinMaxScaler\n",
    "from sklearn.model_selection import train_test_split\n",
    "from tensorflow.keras.models import Sequential\n",
    "from tensorflow.keras.layers import LSTM, Dense\n",
    "import matplotlib.pyplot as plt\n",
    "\n",
    "def preparar_datos_lstm(data, n_steps):\n",
    "    \"\"\"\n",
    "    Prepara los datos para el LSTM creando secuencias.\n",
    "    data: numpy array con los datos escalados\n",
    "    n_steps: número de pasos a incluir en cada secuencia\n",
    "    \"\"\"\n",
    "    X, y = [], []\n",
    "    for i in range(len(data) - n_steps):\n",
    "        X.append(data[i:i + n_steps, :-1])  # Todas las columnas menos la última (target)\n",
    "        y.append(data[i + n_steps, -1])  # La última columna como target\n",
    "    return np.array(X), np.array(y)\n",
    "\n",
    "# Paso 1: Normalizar los datos (se convierte a numpy array)\n",
    "scaler = MinMaxScaler()\n",
    "cluster_0_scaled = scaler.fit_transform(cluster_0)  # Esto genera un array de NumPy\n",
    "cluster_1_scaled = scaler.fit_transform(cluster_1)\n",
    "cluster_2_scaled = scaler.fit_transform(cluster_2)\n",
    "\n",
    "# Paso 2: Definir el número de pasos de la secuencia\n",
    "n_steps = 10\n",
    "\n",
    "# Paso 3: Preparar los datos para cada clúster (ya es un array de NumPy)\n",
    "X_cluster_0, y_cluster_0 = preparar_datos_lstm(cluster_0_scaled, n_steps)\n",
    "X_cluster_1, y_cluster_1 = preparar_datos_lstm(cluster_1_scaled, n_steps)\n",
    "X_cluster_2, y_cluster_2 = preparar_datos_lstm(cluster_2_scaled, n_steps)\n",
    "\n",
    "# Dividir en conjuntos de entrenamiento (80%) y prueba (20%)\n",
    "X_train_0, X_test_0, y_train_0, y_test_0 = train_test_split(X_cluster_0, y_cluster_0, test_size=0.2, random_state=42)\n",
    "X_train_1, X_test_1, y_train_1, y_test_1 = train_test_split(X_cluster_1, y_cluster_1, test_size=0.2, random_state=42)\n",
    "X_train_2, X_test_2, y_train_2, y_test_2 = train_test_split(X_cluster_2, y_cluster_2, test_size=0.2, random_state=42)\n",
    "\n",
    "# A partir de los datos de entrenamiento, dividir en entrenamiento y validación\n",
    "X_train_0, X_val_0, y_train_0, y_val_0 = train_test_split(X_train_0, y_train_0, test_size=0.25, random_state=42)\n",
    "X_train_1, X_val_1, y_train_1, y_val_1 = train_test_split(X_train_1, y_train_1, test_size=0.25, random_state=42)\n",
    "X_train_2, X_val_2, y_train_2, y_val_2 = train_test_split(X_train_2, y_train_2, test_size=0.25, random_state=42)\n",
    "# (Ahora tienes 60% entrenamiento, 20% validación, 20% prueba)\n",
    "\n"
   ]
  },
  {
   "cell_type": "code",
   "execution_count": 11,
   "id": "6e6a53ce-dbbb-411f-859c-e271169bbf1d",
   "metadata": {
    "tags": []
   },
   "outputs": [
    {
     "name": "stdout",
     "output_type": "stream",
     "text": [
      "WARNING:tensorflow:From C:\\Users\\Igna\\anaconda3\\Lib\\site-packages\\keras\\src\\backend.py:873: The name tf.get_default_graph is deprecated. Please use tf.compat.v1.get_default_graph instead.\n",
      "\n",
      "WARNING:tensorflow:From C:\\Users\\Igna\\anaconda3\\Lib\\site-packages\\keras\\src\\optimizers\\__init__.py:309: The name tf.train.Optimizer is deprecated. Please use tf.compat.v1.train.Optimizer instead.\n",
      "\n",
      "Epoch 1/15\n",
      "WARNING:tensorflow:From C:\\Users\\Igna\\anaconda3\\Lib\\site-packages\\keras\\src\\utils\\tf_utils.py:492: The name tf.ragged.RaggedTensorValue is deprecated. Please use tf.compat.v1.ragged.RaggedTensorValue instead.\n",
      "\n",
      "1312/1312 [==============================] - 19s 11ms/step - loss: 0.0082 - val_loss: 0.0051\n",
      "Epoch 2/15\n",
      "1312/1312 [==============================] - 14s 11ms/step - loss: 0.0050 - val_loss: 0.0057\n",
      "Epoch 3/15\n",
      "1312/1312 [==============================] - 14s 11ms/step - loss: 0.0047 - val_loss: 0.0051\n",
      "Epoch 4/15\n",
      "1312/1312 [==============================] - 14s 11ms/step - loss: 0.0044 - val_loss: 0.0041\n",
      "Epoch 5/15\n",
      "1312/1312 [==============================] - 14s 11ms/step - loss: 0.0042 - val_loss: 0.0040\n",
      "Epoch 6/15\n",
      "1312/1312 [==============================] - 14s 11ms/step - loss: 0.0041 - val_loss: 0.0041\n",
      "Epoch 7/15\n",
      "1312/1312 [==============================] - 14s 11ms/step - loss: 0.0040 - val_loss: 0.0048\n",
      "Epoch 8/15\n",
      "1312/1312 [==============================] - 14s 11ms/step - loss: 0.0038 - val_loss: 0.0043\n",
      "Epoch 9/15\n",
      "1312/1312 [==============================] - 14s 11ms/step - loss: 0.0037 - val_loss: 0.0038\n",
      "Epoch 10/15\n",
      "1312/1312 [==============================] - 14s 11ms/step - loss: 0.0037 - val_loss: 0.0037\n",
      "Epoch 11/15\n",
      "1312/1312 [==============================] - 14s 11ms/step - loss: 0.0036 - val_loss: 0.0038\n",
      "Epoch 12/15\n",
      "1312/1312 [==============================] - 14s 11ms/step - loss: 0.0035 - val_loss: 0.0036\n",
      "Epoch 13/15\n",
      "1312/1312 [==============================] - 14s 11ms/step - loss: 0.0035 - val_loss: 0.0038\n",
      "Epoch 14/15\n",
      "1312/1312 [==============================] - 14s 11ms/step - loss: 0.0034 - val_loss: 0.0035\n",
      "Epoch 15/15\n",
      "1312/1312 [==============================] - 14s 11ms/step - loss: 0.0033 - val_loss: 0.0035\n"
     ]
    }
   ],
   "source": [
    "from tensorflow.keras.models import Sequential\n",
    "from tensorflow.keras.layers import LSTM, Dense\n",
    "\n",
    "def crear_modelo_lstm(n_steps, n_features):\n",
    "    \"\"\"\n",
    "    Crea un modelo LSTM con una capa LSTM y una capa Dense.\n",
    "    \"\"\"\n",
    "    model = Sequential()\n",
    "    model.add(LSTM(50, activation='relu', input_shape=(n_steps, n_features)))\n",
    "    model.add(Dense(1))\n",
    "    model.compile(optimizer='adam', loss='mse')\n",
    "    return model\n",
    "\n",
    "# Obtener el número de características (n_features) a partir de los datos escalados\n",
    "n_features = X_cluster_0.shape[2]\n",
    "\n",
    "# Crear y entrenar el modelo para cada clúster\n",
    "modelo_cluster_0 = crear_modelo_lstm(n_steps, n_features)\n",
    "history0 = modelo_cluster_0.fit(X_train_0, y_train_0, \n",
    "                               epochs=15, \n",
    "                               validation_data=(X_val_0, y_val_0),\n",
    "                               verbose=1)\n",
    "\n",
    "\n",
    "\n"
   ]
  },
  {
   "cell_type": "code",
   "execution_count": 12,
   "id": "b785a9b8-d7d6-445d-b739-70cf4e6c7a5c",
   "metadata": {
    "tags": []
   },
   "outputs": [
    {
     "name": "stdout",
     "output_type": "stream",
     "text": [
      "Epoch 1/15\n",
      "1770/1770 [==============================] - 19s 11ms/step - loss: 0.0095 - val_loss: 0.0086\n",
      "Epoch 2/15\n",
      "1770/1770 [==============================] - 19s 11ms/step - loss: 0.0084 - val_loss: 0.0079\n",
      "Epoch 3/15\n",
      "1770/1770 [==============================] - 19s 11ms/step - loss: 0.0079 - val_loss: 0.0077\n",
      "Epoch 4/15\n",
      "1770/1770 [==============================] - 19s 11ms/step - loss: 0.0076 - val_loss: 0.0073\n",
      "Epoch 5/15\n",
      "1770/1770 [==============================] - 19s 11ms/step - loss: 0.0074 - val_loss: 0.0071\n",
      "Epoch 6/15\n",
      "1770/1770 [==============================] - 19s 11ms/step - loss: 0.0072 - val_loss: 0.0072\n",
      "Epoch 7/15\n",
      "1770/1770 [==============================] - 19s 11ms/step - loss: 0.0070 - val_loss: 0.0074\n",
      "Epoch 8/15\n",
      "1770/1770 [==============================] - 19s 11ms/step - loss: 0.0069 - val_loss: 0.0072\n",
      "Epoch 9/15\n",
      "1770/1770 [==============================] - 19s 11ms/step - loss: 0.0068 - val_loss: 0.0069\n",
      "Epoch 10/15\n",
      "1770/1770 [==============================] - 19s 11ms/step - loss: 0.0067 - val_loss: 0.0067\n",
      "Epoch 11/15\n",
      "1770/1770 [==============================] - 19s 11ms/step - loss: 0.0065 - val_loss: 0.0067\n",
      "Epoch 12/15\n",
      "1770/1770 [==============================] - 19s 11ms/step - loss: 0.0065 - val_loss: 0.0068\n",
      "Epoch 13/15\n",
      "1770/1770 [==============================] - 19s 11ms/step - loss: 0.0063 - val_loss: 0.0064\n",
      "Epoch 14/15\n",
      "1770/1770 [==============================] - 19s 11ms/step - loss: 0.0063 - val_loss: 0.0066\n",
      "Epoch 15/15\n",
      "1770/1770 [==============================] - 19s 11ms/step - loss: 0.0062 - val_loss: 0.0065\n"
     ]
    }
   ],
   "source": [
    "modelo_cluster_1 = crear_modelo_lstm(n_steps, n_features)\n",
    "history1 = modelo_cluster_0.fit(X_train_1, y_train_1, \n",
    "                               epochs=15, \n",
    "                               validation_data=(X_val_1, y_val_1),\n",
    "                               verbose=1)"
   ]
  },
  {
   "cell_type": "code",
   "execution_count": 13,
   "id": "85abe17d-d457-4b38-a1c0-7aba6c172664",
   "metadata": {
    "tags": []
   },
   "outputs": [
    {
     "name": "stdout",
     "output_type": "stream",
     "text": [
      "Epoch 1/15\n",
      "2201/2201 [==============================] - 24s 11ms/step - loss: 0.0066 - val_loss: 0.0057\n",
      "Epoch 2/15\n",
      "2201/2201 [==============================] - 23s 11ms/step - loss: 0.0053 - val_loss: 0.0052\n",
      "Epoch 3/15\n",
      "2201/2201 [==============================] - 24s 11ms/step - loss: 0.0049 - val_loss: 0.0048\n",
      "Epoch 4/15\n",
      "2201/2201 [==============================] - 23s 11ms/step - loss: 0.0046 - val_loss: 0.0053\n",
      "Epoch 5/15\n",
      "2201/2201 [==============================] - 24s 11ms/step - loss: 0.0044 - val_loss: 0.0046\n",
      "Epoch 6/15\n",
      "2201/2201 [==============================] - 23s 11ms/step - loss: 0.0043 - val_loss: 0.0045\n",
      "Epoch 7/15\n",
      "2201/2201 [==============================] - 23s 11ms/step - loss: 0.0042 - val_loss: 0.0045\n",
      "Epoch 8/15\n",
      "2201/2201 [==============================] - 23s 11ms/step - loss: 0.0040 - val_loss: 0.0045\n",
      "Epoch 9/15\n",
      "2201/2201 [==============================] - 23s 11ms/step - loss: 0.0040 - val_loss: 0.0042\n",
      "Epoch 10/15\n",
      "2201/2201 [==============================] - 24s 11ms/step - loss: 0.0039 - val_loss: 0.0041\n",
      "Epoch 11/15\n",
      "2201/2201 [==============================] - 26s 12ms/step - loss: 0.0038 - val_loss: 0.0042\n",
      "Epoch 12/15\n",
      "2201/2201 [==============================] - 26s 12ms/step - loss: 0.0037 - val_loss: 0.0041\n",
      "Epoch 13/15\n",
      "2201/2201 [==============================] - 27s 12ms/step - loss: 0.0037 - val_loss: 0.0043\n",
      "Epoch 14/15\n",
      "2201/2201 [==============================] - 26s 12ms/step - loss: 0.0036 - val_loss: 0.0041\n",
      "Epoch 15/15\n",
      "2201/2201 [==============================] - 26s 12ms/step - loss: 0.0035 - val_loss: 0.0040\n"
     ]
    }
   ],
   "source": [
    "modelo_cluster_2 = crear_modelo_lstm(n_steps, n_features)\n",
    "history2 = modelo_cluster_0.fit(X_train_2, y_train_2, \n",
    "                               epochs=15, \n",
    "                               validation_data=(X_val_2, y_val_2),\n",
    "                               verbose=1)\n"
   ]
  },
  {
   "cell_type": "code",
   "execution_count": 14,
   "id": "e8f8ce53-58e2-4f8f-87e5-eeb3476b78db",
   "metadata": {
    "tags": []
   },
   "outputs": [
    {
     "name": "stdout",
     "output_type": "stream",
     "text": [
      "438/438 [==============================] - 2s 6ms/step - loss: 0.0122\n",
      "Test Loss for Cluster 0: 0.012248423881828785\n",
      "590/590 [==============================] - 4s 5ms/step - loss: 0.1202\n",
      "Test Loss for Cluster 1: 0.12016617506742477\n",
      "734/734 [==============================] - 5s 6ms/step - loss: 0.4088\n",
      "Test Loss for Cluster 2: 0.4087682068347931\n"
     ]
    }
   ],
   "source": [
    "# Evaluar el modelo en los datos de prueba\n",
    "test_loss0 = modelo_cluster_0.evaluate(X_test_0, y_test_0)\n",
    "print(f\"Test Loss for Cluster 0: {test_loss0}\")\n",
    "\n",
    "test_loss1 = modelo_cluster_1.evaluate(X_test_1, y_test_1)\n",
    "print(f\"Test Loss for Cluster 1: {test_loss1}\")\n",
    "\n",
    "test_loss2 = modelo_cluster_2.evaluate(X_test_2, y_test_2)\n",
    "print(f\"Test Loss for Cluster 2: {test_loss2}\")\n"
   ]
  },
  {
   "cell_type": "code",
   "execution_count": 15,
   "id": "63cf1a60-5cec-45e1-99cd-fbfa74531105",
   "metadata": {
    "tags": []
   },
   "outputs": [
    {
     "data": {
      "image/png": "[encoded data removed]",
      "text/plain": [
       "<Figure size 640x480 with 1 Axes>"
      ]
     },
     "metadata": {},
     "output_type": "display_data"
    }
   ],
   "source": [
    "# Graficar la pérdida de entrenamiento y validación\n",
    "plt.plot(history0.history['loss'], label='Pérdida de entrenamiento')\n",
    "plt.plot(history0.history['val_loss'], label='Pérdida de validación')\n",
    "plt.title('Pérdida de Entrenamiento y Validación - Clúster 0')\n",
    "plt.xlabel('Épocas')\n",
    "plt.ylabel('Pérdida (MSE)')\n",
    "plt.legend()\n",
    "plt.show()"
   ]
  },
  {
   "cell_type": "code",
   "execution_count": 16,
   "id": "98868762-3833-454a-b68c-e4adc6dac171",
   "metadata": {
    "tags": []
   },
   "outputs": [
    {
     "data": {
      "image/png": "[encoded data removed]",
      "text/plain": [
       "<Figure size 640x480 with 1 Axes>"
      ]
     },
     "metadata": {},
     "output_type": "display_data"
    }
   ],
   "source": [
    "# Graficar la pérdida de entrenamiento y validación\n",
    "plt.plot(history1.history['loss'], label='Pérdida de entrenamiento')\n",
    "plt.plot(history1.history['val_loss'], label='Pérdida de validación')\n",
    "plt.title('Pérdida de Entrenamiento y Validación - Clúster 1')\n",
    "plt.xlabel('Épocas')\n",
    "plt.ylabel('Pérdida (MSE)')\n",
    "plt.legend()\n",
    "plt.show()"
   ]
  },
  {
   "cell_type": "code",
   "execution_count": 17,
   "id": "b6bdad34-7305-4fba-8861-ba2fa59c4f28",
   "metadata": {
    "tags": []
   },
   "outputs": [
    {
     "data": {
      "image/png": "[encoded data removed]",
      "text/plain": [
       "<Figure size 640x480 with 1 Axes>"
      ]
     },
     "metadata": {},
     "output_type": "display_data"
    }
   ],
   "source": [
    "# Graficar la pérdida de entrenamiento y validación\n",
    "plt.plot(history2.history['loss'], label='Pérdida de entrenamiento')\n",
    "plt.plot(history2.history['val_loss'], label='Pérdida de validación')\n",
    "plt.title('Pérdida de Entrenamiento y Validación - Clúster 2')\n",
    "plt.xlabel('Épocas')\n",
    "plt.ylabel('Pérdida (MSE)')\n",
    "plt.legend()\n",
    "plt.show()"
   ]
  },
  {
   "cell_type": "code",
   "execution_count": 18,
   "id": "dfd2f97c-b897-4c57-83e0-9908a7826281",
   "metadata": {
    "tags": []
   },
   "outputs": [
    {
     "name": "stdout",
     "output_type": "stream",
     "text": [
      "438/438 [==============================] - 3s 6ms/step - loss: 0.0122\n",
      "MSE (Pérdida) en datos de prueba - Clúster 0: 0.012248423881828785\n",
      "590/590 [==============================] - 4s 6ms/step - loss: 0.1202\n",
      "MSE (Pérdida) en datos de prueba - Clúster 1: 0.12016617506742477\n",
      "734/734 [==============================] - 4s 6ms/step - loss: 0.4088\n",
      "MSE (Pérdida) en datos de prueba - Clúster 0: 0.4087682068347931\n"
     ]
    }
   ],
   "source": [
    "# Evaluar el modelo en los datos de prueba (MSE es la métrica que usamos en la compilación del modelo)\n",
    "test_loss_mse0 = modelo_cluster_0.evaluate(X_test_0, y_test_0)\n",
    "print(f'MSE (Pérdida) en datos de prueba - Clúster 0: {test_loss_mse0}')\n",
    "\n",
    "# Evaluar el modelo en los datos de prueba (MSE es la métrica que usamos en la compilación del modelo)\n",
    "test_loss_mse1 = modelo_cluster_1.evaluate(X_test_1, y_test_1)\n",
    "print(f'MSE (Pérdida) en datos de prueba - Clúster 1: {test_loss_mse1}')\n",
    "\n",
    "# Evaluar el modelo en los datos de prueba (MSE es la métrica que usamos en la compilación del modelo)\n",
    "test_loss_mse2 = modelo_cluster_2.evaluate(X_test_2, y_test_2)\n",
    "print(f'MSE (Pérdida) en datos de prueba - Clúster 0: {test_loss_mse2}')"
   ]
  },
  {
   "cell_type": "code",
   "execution_count": 19,
   "id": "78a9927b-46c3-4307-ba7b-506aeb3a9518",
   "metadata": {
    "tags": []
   },
   "outputs": [
    {
     "name": "stdout",
     "output_type": "stream",
     "text": [
      "438/438 [==============================] - 3s 6ms/step\n",
      "590/590 [==============================] - 4s 5ms/step\n",
      "734/734 [==============================] - 5s 6ms/step\n"
     ]
    }
   ],
   "source": [
    "# Hacer predicciones en los datos de prueba\n",
    "y_pred_0 = modelo_cluster_0.predict(X_test_0)\n",
    "\n",
    "# Hacer predicciones en los datos de prueba\n",
    "y_pred_1 = modelo_cluster_1.predict(X_test_1)\n",
    "\n",
    "# Hacer predicciones en los datos de prueba\n",
    "y_pred_2 = modelo_cluster_2.predict(X_test_2)"
   ]
  },
  {
   "cell_type": "code",
   "execution_count": 21,
   "id": "b166094c-6e7d-45ae-8ea8-775949041dc3",
   "metadata": {
    "tags": []
   },
   "outputs": [
    {
     "name": "stdout",
     "output_type": "stream",
     "text": [
      "RMSE en datos de prueba - Clúster 0: 0.11067259472273305\n",
      "MAE en datos de prueba - Clúster 0: 0.07204815108835316\n",
      "RMSE en datos de prueba - Clúster 1: 0.3466498929106296\n",
      "MAE en datos de prueba - Clúster 1: 0.2621709553298284\n",
      "RMSE en datos de prueba - Clúster 2: 0.6393500287453804\n",
      "MAE en datos de prueba - Clúster 2: 0.5436679993051629\n"
     ]
    }
   ],
   "source": [
    "from sklearn.metrics import mean_squared_error, mean_absolute_error\n",
    "import numpy as np\n",
    "\n",
    "# Calcular el MSE y RMSE\n",
    "mse0 = mean_squared_error(y_test_0, y_pred_0)\n",
    "rmse0 = np.sqrt(mse0)\n",
    "print(f'RMSE en datos de prueba - Clúster 0: {rmse0}')\n",
    "\n",
    "# Calcular el MAE\n",
    "mae0 = mean_absolute_error(y_test_0, y_pred_0)\n",
    "print(f'MAE en datos de prueba - Clúster 0: {mae0}')\n",
    "\n",
    "\n",
    "\n",
    "\n",
    "\n",
    "# Calcular el MSE y RMSE\n",
    "mse1 = mean_squared_error(y_test_1, y_pred_1)\n",
    "rmse1 = np.sqrt(mse1)\n",
    "print(f'RMSE en datos de prueba - Clúster 1: {rmse1}')\n",
    "\n",
    "# Calcular el MAE\n",
    "mae1 = mean_absolute_error(y_test_1, y_pred_1)\n",
    "print(f'MAE en datos de prueba - Clúster 1: {mae1}')\n",
    "\n",
    "\n",
    "\n",
    "\n",
    "\n",
    "# Calcular el MSE y RMSE\n",
    "mse2 = mean_squared_error(y_test_2, y_pred_2)\n",
    "rmse2 = np.sqrt(mse2)\n",
    "print(f'RMSE en datos de prueba - Clúster 2: {rmse2}')\n",
    "\n",
    "# Calcular el MAE\n",
    "mae2 = mean_absolute_error(y_test_2, y_pred_2)\n",
    "print(f'MAE en datos de prueba - Clúster 2: {mae2}')\n"
   ]
  },
  {
   "cell_type": "code",
   "execution_count": 22,
   "id": "f8daf6d3-1a93-4af5-b6f8-01202dc9d08c",
   "metadata": {
    "tags": []
   },
   "outputs": [
    {
     "name": "stdout",
     "output_type": "stream",
     "text": [
      "MSE (Pérdida) en datos de prueba - Clúster 0: 0.012248423881828785\n",
      "MSE (Pérdida) en datos de prueba - Clúster 0: 0.12016617506742477\n",
      "MSE (Pérdida) en datos de prueba - Clúster 0: 0.4087682068347931\n",
      "RMSE en datos de prueba - Clúster 0: 0.11067259472273305\n",
      "RMSE en datos de prueba - Clúster 0: 0.3466498929106296\n",
      "RMSE en datos de prueba - Clúster 0: 0.6393500287453804\n",
      "MAE en datos de prueba - Clúster 0: 0.07204815108835316\n",
      "MAE en datos de prueba - Clúster 0: 0.2621709553298284\n",
      "MAE en datos de prueba - Clúster 0: 0.5436679993051629\n"
     ]
    }
   ],
   "source": [
    "# MSE ya lo obtuvimos durante la evaluación del modelo\n",
    "print(f'MSE (Pérdida) en datos de prueba - Clúster 0: {test_loss_mse0}')\n",
    "print(f'MSE (Pérdida) en datos de prueba - Clúster 0: {test_loss_mse1}')\n",
    "print(f'MSE (Pérdida) en datos de prueba - Clúster 0: {test_loss_mse2}')\n",
    "\n",
    "# RMSE\n",
    "print(f'RMSE en datos de prueba - Clúster 0: {rmse0}')\n",
    "print(f'RMSE en datos de prueba - Clúster 0: {rmse1}')\n",
    "print(f'RMSE en datos de prueba - Clúster 0: {rmse2}')\n",
    "\n",
    "# MAE\n",
    "print(f'MAE en datos de prueba - Clúster 0: {mae0}')\n",
    "print(f'MAE en datos de prueba - Clúster 0: {mae1}')\n",
    "print(f'MAE en datos de prueba - Clúster 0: {mae2}')\n"
   ]
  },
  {
   "cell_type": "code",
   "execution_count": 23,
   "id": "be5c06e9-0ed1-422c-bbd9-222afa7b1343",
   "metadata": {
    "tags": []
   },
   "outputs": [
    {
     "data": {
      "image/png": "[encoded data removed]",
      "text/plain": [
       "<Figure size 1200x600 with 3 Axes>"
      ]
     },
     "metadata": {},
     "output_type": "display_data"
    }
   ],
   "source": [
    "import matplotlib.pyplot as plt\n",
    "\n",
    "# Métricas para cada clúster\n",
    "mse_values = [test_loss_mse0, test_loss_mse1, test_loss_mse2]\n",
    "rmse_values = [rmse0, rmse1, rmse2]\n",
    "mae_values = [mae0, mae1, mae2]\n",
    "\n",
    "# Graficar las métricas\n",
    "clusters = ['Clúster 0', 'Clúster 1', 'Clúster 2']\n",
    "\n",
    "plt.figure(figsize=(12, 6))\n",
    "\n",
    "# MSE\n",
    "plt.subplot(1, 3, 1)\n",
    "plt.bar(clusters, mse_values, color='blue')\n",
    "plt.title('MSE por Clúster')\n",
    "\n",
    "# RMSE\n",
    "plt.subplot(1, 3, 2)\n",
    "plt.bar(clusters, rmse_values, color='green')\n",
    "plt.title('RMSE por Clúster')\n",
    "\n",
    "# MAE\n",
    "plt.subplot(1, 3, 3)\n",
    "plt.bar(clusters, mae_values, color='orange')\n",
    "plt.title('MAE por Clúster')\n",
    "\n",
    "plt.tight_layout()\n",
    "plt.show()\n"
   ]
  },
  {
   "cell_type": "code",
   "execution_count": 24,
   "id": "448af31c-d8f9-4412-a26a-70d4742c4e27",
   "metadata": {
    "tags": []
   },
   "outputs": [
    {
     "name": "stderr",
     "output_type": "stream",
     "text": [
      "C:\\Users\\Igna\\anaconda3\\Lib\\site-packages\\keras\\src\\engine\\training.py:3103: UserWarning: You are saving your model as an HDF5 file via `model.save()`. This file format is considered legacy. We recommend using instead the native Keras format, e.g. `model.save('my_model.keras')`.\n",
      "  saving_api.save_model(\n"
     ]
    }
   ],
   "source": [
    "# Guardar el modelo para el Clúster 0\n",
    "modelo_cluster_0.save('modelo_cluster_0.h5')\n",
    "\n",
    "# Guardar el modelo para el Clúster 1\n",
    "modelo_cluster_1.save('modelo_cluster_1.h5')\n",
    "\n",
    "# Guardar el modelo para el Clúster 2\n",
    "modelo_cluster_2.save('modelo_cluster_2.h5')\n"
   ]
  },
  {
   "cell_type": "code",
   "execution_count": null,
   "id": "7d032782-0fc1-4264-8c1c-bcdb47b5c017",
   "metadata": {},
   "outputs": [],
   "source": []
  },
  {
   "cell_type": "code",
   "execution_count": null,
   "id": "994452c6-3568-4b33-9ed1-05f080a56cec",
   "metadata": {},
   "outputs": [],
   "source": []
  },
  {
   "cell_type": "code",
   "execution_count": null,
   "id": "93f5071e-da09-4816-9b8e-2de8960a061a",
   "metadata": {},
   "outputs": [],
   "source": []
  },
  {
   "cell_type": "code",
   "execution_count": null,
   "id": "f685b331-1544-4ca3-adfa-5cf9e19aba9f",
   "metadata": {},
   "outputs": [],
   "source": []
  },
  {
   "cell_type": "code",
   "execution_count": null,
   "id": "8042b5a9-27ea-4334-b058-c64e08c8232e",
   "metadata": {},
   "outputs": [],
   "source": [
    "#Pronóstico futuro (Opcional)\n",
    "dias_a_predecir = 7\n",
    "input_datos = ocupacion_scaled[-pasos:]  # Usamos los últimos 30 días\n",
    "\n",
    "predicciones_futuras = []\n",
    "\n",
    "for _ in range(dias_a_predecir):\n",
    "    # Redimensionamos los datos para que sean compatibles con LSTM\n",
    "    input_datos_reshaped = input_datos.reshape(1, pasos, 1)\n",
    "    \n",
    "    # Hacemos la predicción\n",
    "    prediccion = model.predict(input_datos_reshaped)\n",
    "    predicciones_futuras.append(prediccion[0, 0])\n",
    "    \n",
    "    # Agregamos la nueva predicción a la secuencia y eliminamos el valor más antiguo\n",
    "    input_datos = np.append(input_datos[1:], prediccion, axis=0)\n",
    "\n",
    "# Desescalamos las predicciones\n",
    "predicciones_futuras = scaler.inverse_transform(np.array(predicciones_futuras).reshape(-1, 1))\n",
    "\n",
    "print(\"Predicciones futuras para los próximos días:\")\n",
    "print(predicciones_futuras)\n"
   ]
  }
 ],
 "metadata": {
  "kernelspec": {
   "display_name": "Python 3 (ipykernel)",
   "language": "python",
   "name": "python3"
  },
  "language_info": {
   "codemirror_mode": {
    "name": "ipython",
    "version": 3
   },
   "file_extension": ".py",
   "mimetype": "text/x-python",
   "name": "python",
   "nbconvert_exporter": "python",
   "pygments_lexer": "ipython3",
   "version": "3.11.5"
  }
 },
 "nbformat": 4,
 "nbformat_minor": 5
}
